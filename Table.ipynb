{
 "cells": [
  {
   "cell_type": "markdown",
   "metadata": {},
   "source": [
    "## League table\n",
    "* Modify PLACE_SCORE, ATTENDANCE_SCORE, and TITLE as needed\n",
    "* Then run the following cell:"
   ]
  },
  {
   "cell_type": "code",
   "execution_count": 2,
   "metadata": {},
   "outputs": [],
   "source": [
    "import numpy as np\n",
    "import copy\n",
    "import os \n",
    "import shutil # To manually copy files if needed for archiving\n",
    "\n",
    "#Scores for 1st to 8th place - add extra elements as needed but keep first element = 0\n",
    "PLACE_SCORE=np.array([0,125,100,75,60,40,30,20,10]) #NB keep first element = 0\n",
    "#Score for people finishing outside the place scores\n",
    "ATTENDANCE_SCORE = 10 \n",
    "#Displayed at the top of the table\n",
    "TITLE = \"League Table\"\n",
    "Results=None\n",
    "players=[]\n",
    "current_week=None\n",
    "FILENAME=\"results.csv\"\n",
    "\n",
    "def s_score(place):\n",
    "    if place >= 999:\n",
    "        return 0\n",
    "    if place < len(PLACE_SCORE):\n",
    "        return  PLACE_SCORE[place]\n",
    "    else:\n",
    "        return ATTENDANCE_SCORE\n",
    "\n",
    "score = np.vectorize(s_score)\n",
    "\n",
    "class Player:\n",
    "    def __init__(self,name,scores) -> None:\n",
    "        self.name = name\n",
    "        self.scores=copy.deepcopy(scores)\n",
    "\n",
    "def read_results():\n",
    "    res_names = np.genfromtxt(FILENAME, delimiter=\",\",dtype=str) #scores as string\n",
    "    res_scores = np.genfromtxt(FILENAME, delimiter=\",\",dtype=int) #name as Na\n",
    "\n",
    "    results = res_scores.astype(object) #blank will be False - i.e. -1\n",
    "    players = []\n",
    "\n",
    "    for row in range(len(results)):\n",
    "        players.append(Player(res_names[row][0],results[row][1:]))\n",
    "        results[row][0] = res_names[row][0]\n",
    "    current_week = len(results[0])-1         \n",
    "\n",
    "    \n",
    "\n",
    "    for player in players:\n",
    "        if len(player.scores) != len(players[0].scores):\n",
    "            raise AssertionError(f\"Player {player.name} has unequal no of scores\")\n",
    "    \n",
    "    #Validation on a per week level\n",
    "    res_scores_t = res_scores.T\n",
    "    week_players=[]\n",
    "    for _,week in enumerate(res_scores_t[1:]): #first row is names\n",
    "        #print(week)\n",
    "        week_players.append(week.max())\n",
    "\n",
    "        order = week.argsort()\n",
    "        #for _o in range (len(order)-1):\n",
    "        for _o in range (1,len(order)):\n",
    "            if week[order[_o]] != -1:\n",
    "                if week[order[_o-1]] == -1:\n",
    "                    if week[order[_o]] != 1:\n",
    "                        raise AssertionError(f\"Week {_+1} has incorrect set of scores No 1st place\")\n",
    "                else:\n",
    "                    if (week[order[_o]] - week[order[_o-1]]) != 1:\n",
    "                        raise AssertionError(f\"Week {_+1} has incorrect set of scores {week[order[_o]]} {week[order[_o-1]]}\")\n",
    "\n",
    "\n",
    "    return players, current_week, week_players\n",
    "\n",
    "def make_table():\n",
    "    players, current_week, week_players = read_results()\n",
    "\n",
    "    table = []\n",
    "    scores=[] #solely used for sorting\n",
    "\n",
    "    for player in players:\n",
    "        #print(f\"{player.name} {player.scores}\")\n",
    "\n",
    "        score = score_player(player.scores,week_players)\n",
    "        adjusted_score = score - (0.00001 * np.sum(player.scores != -1)) # tie-break to favour player with fewer games\n",
    "        scores.append(adjusted_score)\n",
    "        wins = (player.scores == 1).sum()\n",
    "        table.append ([player.name, (player.scores>-1).sum() , wins, score])\n",
    "\n",
    "    order = np.argsort(np.array(scores))\n",
    "\n",
    "    print(f\"{TITLE} week {current_week}\")\n",
    "    print(f\"      Player                  Games   Wins     Points\")\n",
    "    for _ in range(len(order)-1,-1,-1):\n",
    "        print(f\"{len(order)-_:2d}    {table[order[_]][0]:20} {table[order[_]][1]:6d}     {table[order[_]][2]:2d}       {table[order[_]][3]:4d}\")\n",
    "\n",
    "\n",
    "def score_player(p_r,week_players):\n",
    "\n",
    "    player_results = np.where(p_r<1,999,p_r) #map -1 values\n",
    "    \n",
    "    raw_scores = score(player_results)\n",
    "\n",
    "    return raw_scores.sum()\n",
    "\n",
    "\n",
    "def add_player(name):\n",
    "    #Add a new row to the results table with the correct number of commas\n",
    "    \n",
    "    players, current_week, week_players = read_results()\n",
    "    for player in players:\n",
    "        if player.name == name:\n",
    "            raise AssertionError(\"player {name} already exists\")\n",
    "\n",
    "    new_line=\"\\n\"+name+\",\"*(current_week)\n",
    "    f=open(FILENAME,\"a\")\n",
    "    f.write(new_line)\n",
    "    f.close()\n",
    "     \n",
    "\n",
    "def add_week():\n",
    "    #TODO: ARCHIVE the csv and add an extra column to the csv\n",
    "    #OR should just use git for archiving\n",
    "    players, current_week, week_players = read_results()\n",
    "    backup_filename = FILENAME+\".bak\"\n",
    "    if os.path.exists(FILENAME):\n",
    "        try:\n",
    "            os.remove(backup_filename)\n",
    "        except OSError:\n",
    "            pass\n",
    "        new=[]\n",
    "        os.rename(FILENAME,backup_filename)\n",
    "        \n",
    "        with open(backup_filename,\"r\") as f_bak:\n",
    "            current = f_bak.readlines()\n",
    "            \n",
    "            for line in current:\n",
    "                if line[-1] == \"\\n\":\n",
    "                    new.append(f\"{line[:-1]},\\n\")\n",
    "                else:\n",
    "                    new.append(f\"{line},\")  \n",
    "        with open(FILENAME,\"w\") as f:\n",
    "            f.writelines(new)\n",
    "    else:\n",
    "        raise AssertionError(f\"{FILENAME} does not exist!\")\n",
    "\n"
   ]
  },
  {
   "cell_type": "markdown",
   "metadata": {},
   "source": [
    "### To create the table:"
   ]
  },
  {
   "cell_type": "code",
   "execution_count": 12,
   "metadata": {},
   "outputs": [
    {
     "name": "stdout",
     "output_type": "stream",
     "text": [
      "League Table week 1\n",
      "      Player                  Games   Wins     Points\n",
      " 1    Player One                1      1        125\n",
      " 2    Player Two                1      0        100\n"
     ]
    }
   ],
   "source": [
    "make_table()"
   ]
  },
  {
   "cell_type": "markdown",
   "metadata": {},
   "source": [
    "### To add a new week and player"
   ]
  },
  {
   "cell_type": "code",
   "execution_count": 13,
   "metadata": {},
   "outputs": [
    {
     "name": "stdout",
     "output_type": "stream",
     "text": [
      "League Table week 2\n",
      "      Player                  Games   Wins     Points\n",
      " 1    Player One                1      1        125\n",
      " 2    Player Two                1      0        100\n",
      " 3    Player Three              0      0          0\n"
     ]
    }
   ],
   "source": [
    "add_player(\"Player Three\")\n",
    "add_week()\n"
   ]
  },
  {
   "cell_type": "markdown",
   "metadata": {},
   "source": [
    "* Change the pre-existing player names as appropriate\n",
    "* add in the places for the week at the end of the commas"
   ]
  },
  {
   "cell_type": "code",
   "execution_count": 14,
   "metadata": {},
   "outputs": [
    {
     "name": "stdout",
     "output_type": "stream",
     "text": [
      "League Table week 2\n",
      "      Player                  Games   Wins     Points\n",
      " 1    Player One                1      1        125\n",
      " 2    Player Two                1      0        100\n",
      " 3    Player Three              0      0          0\n"
     ]
    }
   ],
   "source": [
    "make_table()\n"
   ]
  }
 ],
 "metadata": {
  "interpreter": {
   "hash": "5ed39076ecfbffa891efe79264807416f295022aa7d1a440cb7ae539f3f89c6d"
  },
  "kernelspec": {
   "display_name": "Python 3.8.8 64-bit ('PandasNumpyMathplotlib': conda)",
   "name": "python3"
  },
  "language_info": {
   "codemirror_mode": {
    "name": "ipython",
    "version": 3
   },
   "file_extension": ".py",
   "mimetype": "text/x-python",
   "name": "python",
   "nbconvert_exporter": "python",
   "pygments_lexer": "ipython3",
   "version": "3.8.8"
  }
 },
 "nbformat": 4,
 "nbformat_minor": 2
}
